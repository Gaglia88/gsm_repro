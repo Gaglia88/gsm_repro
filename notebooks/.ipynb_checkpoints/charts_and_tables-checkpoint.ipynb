{
 "cells": [
  {
   "cell_type": "code",
   "execution_count": null,
   "id": "94e2cf87-33bd-4391-8334-46fb2bfb916e",
   "metadata": {},
   "outputs": [],
   "source": [
    "import warnings\n",
    "import glob\n",
    "import numpy as np\n",
    "import pandas as pd\n",
    "import matplotlib.pyplot as plt\n",
    "from matplotlib.lines import Line2D\n",
    "from matplotlib.patches import Patch\n",
    "\n",
    "warnings.filterwarnings('ignore')\n",
    "\n",
    "# base path of the results folder\n",
    "BASE_PATH = '../'"
   ]
  },
  {
   "cell_type": "code",
   "execution_count": null,
   "id": "70a9d136-62bb-4ee6-b673-641f35aff582",
   "metadata": {},
   "outputs": [],
   "source": [
    "def sort_df(df, method):\n",
    "    df = df.copy()\n",
    "    df['sort'] = 0\n",
    "    for i in range(0, len(method)):\n",
    "        df.loc[df['algorithm'].eq(method[i]), 'sort'] = i\n",
    "    df = df.sort_values('sort', ascending=True)\n",
    "    df = df.drop('sort', axis=1)\n",
    "    return df"
   ]
  },
  {
   "cell_type": "code",
   "execution_count": null,
   "id": "69e7e14d-e76a-4d78-bec3-a5605fa67c72",
   "metadata": {},
   "outputs": [],
   "source": [
    "def create_chart(avg, dev, w_to_plot, pdfName, legpos, title=\"\"):\n",
    "    hatches = ['--', '///', '\\\\\\\\\\\\', 'ooo', 'xxx']\n",
    "    wdf = sort_df(avg[avg['algorithm'].isin(w_to_plot)], w_to_plot)\n",
    "    fields_to_plot = ['recall', 'precision', 'F1']\n",
    "    fields_titles = [\"Recall\", \"Precision\", \"F1\"]\n",
    "    fig, ax = plt.subplots(1, len(fields_to_plot))\n",
    "    \n",
    "    plt.suptitle(title, fontsize=20)\n",
    "    \n",
    "    fig.subplots_adjust(left=None, bottom=None, right=None, top=0.85, wspace=0.5, hspace=None)\n",
    "    fig.set_size_inches(10,5)\n",
    "    x = np.arange(1)\n",
    "    s = 0\n",
    "    methods = wdf['algorithm'].values\n",
    "\n",
    "    for j in range(0, len(fields_to_plot)):\n",
    "        val = wdf[fields_to_plot[j]].values\n",
    "        #dev = ddf[fields_to_plot[j]].values\n",
    "\n",
    "        for i in range(0, len(val)):\n",
    "            ax[j].bar(x+s, val[i], hatch=hatches[i], width=0.08, color='#FFFFFF', alpha=1, align='center', edgecolor=\"black\", label=methods[i])\n",
    "            s += 0.1\n",
    "\n",
    "        ax[j].set_title(fields_titles[j], fontsize=20)\n",
    "        ax[j].set_xticklabels(('','','','','','','','',''))\n",
    "        ax[j].yaxis.grid(True)\n",
    "        ax[j].set_axisbelow(True)\n",
    "        ax[j].set_xlabel(\"(\"+chr(ord('a')+j)+\")\", fontsize=20)\n",
    "        #for tick in ax[j].yaxis.get_major_ticks():\n",
    "            #tick.label.set_fontsize(15)\n",
    "    \n",
    "    ax[0].set_ylim([0.5,1])\n",
    "    ax[0].set_yticks(np.arange(0.5,1.01,0.05))\n",
    "    \n",
    "    ax[1].set_ylim([0,0.30])\n",
    "    ax[1].set_yticks(np.arange(0,0.31,0.05))\n",
    "    \n",
    "    ax[2].set_ylim([0,0.40])\n",
    "    ax[2].set_yticks(np.arange(0,0.41,0.05))\n",
    "\n",
    "    #(3.2, -0.3)\n",
    "    #2.0\n",
    "    ax[1].legend(bbox_to_anchor=legpos, loc='lower right', ncol=4, frameon = False, fontsize=20)\n",
    "    #fig.savefig(pdfName+\".pdf\", format='pdf', dpi=1200, pad_inches=.05, bbox_inches=\"tight\")\n",
    "    plt.show()\n",
    "    "
   ]
  },
  {
   "cell_type": "markdown",
   "id": "bec3d424-c1cf-452f-8fc8-993b722650c1",
   "metadata": {},
   "source": [
    "# Section 5.1, Blocking Performance (Table 1a)"
   ]
  },
  {
   "cell_type": "code",
   "execution_count": null,
   "id": "b659895a-7599-41b5-be58-370e63011bc2",
   "metadata": {},
   "outputs": [],
   "source": [
    "pd.read_csv(f'{BASE_PATH}results/01_blocking_performance.csv')"
   ]
  },
  {
   "cell_type": "markdown",
   "id": "549ee3c0-11b6-4433-b234-a6f8d19a8022",
   "metadata": {},
   "source": [
    "# Section 5.2, Pruning algorithm selection "
   ]
  },
  {
   "cell_type": "code",
   "execution_count": null,
   "id": "ec29d5e3-a395-4ab7-b211-93dcfecf1639",
   "metadata": {},
   "outputs": [],
   "source": [
    "#Weight based\n",
    "w_methods = [\"bcl\", \"wep\", \"wnp\", \"rwnp\", \"blast\"]\n",
    "#Cardinality based\n",
    "c_methods = [\"cep\", \"cnp\", \"rcnp\"]"
   ]
  },
  {
   "cell_type": "code",
   "execution_count": null,
   "id": "9dc15428-dc3c-4ce1-879b-ce59491ef42e",
   "metadata": {},
   "outputs": [],
   "source": [
    "df = pd.read_csv(f'{BASE_PATH}/results/algorithm_selection_java.csv', sep=\";\").drop(['dataset', 'train_size', 'conf_id', 'run', 'comparisons', 'matches'], axis=1)\\\n",
    ".groupby('algorithm').mean().reset_index()\n",
    "df['algorithm'] = df['algorithm'].str.lower()"
   ]
  },
  {
   "cell_type": "markdown",
   "id": "8de66284-8b5b-4b77-bd65-0438f6780895",
   "metadata": {},
   "source": [
    "### Figure 6\n",
    "Average performance of weight-based algorithms"
   ]
  },
  {
   "cell_type": "code",
   "execution_count": null,
   "id": "bfbe969e-176f-4a17-b27a-8aa5511e9d38",
   "metadata": {},
   "outputs": [],
   "source": [
    "create_chart(df, df, w_methods, \"w_based\", (2.6, -0.4), \"\")"
   ]
  },
  {
   "cell_type": "markdown",
   "id": "921e23bc-062f-4062-862c-103da0354412",
   "metadata": {},
   "source": [
    "### Figure 7\n",
    "Average performance of cardinality-based algorithms"
   ]
  },
  {
   "cell_type": "code",
   "execution_count": null,
   "id": "b7b7c0b2-fcac-498a-99b4-e3331977de46",
   "metadata": {},
   "outputs": [],
   "source": [
    "create_chart(df, df, c_methods, \"c_based\", (2.0, -0.3), \"\")"
   ]
  },
  {
   "cell_type": "markdown",
   "id": "547d56b8-f263-4052-9546-06ca25894e04",
   "metadata": {},
   "source": [
    "# Section 5.3, feature selection"
   ]
  },
  {
   "cell_type": "code",
   "execution_count": null,
   "id": "67dc957a-a21b-4b4f-b415-f2609e0783a3",
   "metadata": {},
   "outputs": [],
   "source": [
    "# Read the results\n",
    "df = pd.read_csv(f'{BASE_PATH}results/feature_selection_java.csv', sep=\";\")\n",
    "df = df.drop(['dataset', 'train_size', 'run', 'matches', 'comparisons', 'RT'], axis=1).groupby(['algorithm', 'conf_id']).mean().reset_index()\n",
    "# Rounding\n",
    "df['recall'] = df['recall'].apply(lambda x: round(x, 3))\n",
    "df['precision'] = df['precision'].apply(lambda x: round(x, 3))\n",
    "df['F1'] = df['F1'].apply(lambda x: round(x, 3))"
   ]
  },
  {
   "cell_type": "markdown",
   "id": "c25ca5b8-4e3d-4286-8ab8-69b6a15e46df",
   "metadata": {},
   "source": [
    "## Top blast features by F1 score (Table 2)\n",
    "Those selected in the paper were [72, 74, 75, 78, 79, 82, 86, 89, 96, 190]\n",
    "\n",
    "We can see that they are all there in the top-20"
   ]
  },
  {
   "cell_type": "code",
   "execution_count": null,
   "id": "9eee79d9-f6a7-4931-b1d6-842635739603",
   "metadata": {},
   "outputs": [],
   "source": [
    "df[df['algorithm'] == 'blast'].sort_values('F1', ascending=False).head(20)"
   ]
  },
  {
   "cell_type": "markdown",
   "id": "79df5aac-7eea-4002-ab9d-df2cb87bf460",
   "metadata": {},
   "source": [
    "## Top RCNP features by F1 score (Table 3)\n",
    "Those selected in the paper were [184, 187, 193, 200, 227, 228, 231, 235, 239, 250]\n",
    "\n",
    "Due to the ties of the probabilities here we could obtain different results!"
   ]
  },
  {
   "cell_type": "code",
   "execution_count": null,
   "id": "825ee39e-0044-4e65-aa4a-637375d04663",
   "metadata": {},
   "outputs": [],
   "source": [
    "df[(df['algorithm'] == 'RCNP')].sort_values('F1', ascending=False).head(20)"
   ]
  },
  {
   "cell_type": "code",
   "execution_count": null,
   "id": "06e5ae1b-744d-434a-ac51-12e7f3fdffbf",
   "metadata": {},
   "outputs": [],
   "source": [
    "# Those selected in the paper\n",
    "top_blast_features = [72, 74, 75, 78, 79, 82, 86, 89, 96, 190]\n",
    "top_rcnp_features = [184, 187, 193, 200, 227, 228, 231, 235, 239, 250]\n",
    "top_blast = 78\n",
    "top_rcnp = 187"
   ]
  },
  {
   "cell_type": "code",
   "execution_count": null,
   "id": "87ff6e9b-9136-406b-afec-c0a4b2d4947b",
   "metadata": {},
   "outputs": [],
   "source": [
    "def plot_run_time(df, title=\"\"):\n",
    "    \n",
    "    hatches = ['--', '///', '\\\\\\\\\\\\', 'ooo', 'xxx', '...', 'OOO', '|||', '+++', '+o']\n",
    "    fields_to_plot = ['RT']\n",
    "    datasets = sorted(list(set(df['dataset'].values)))\n",
    "    dataset_names = [\"Movies\", \"WalmartAmazon\"]\n",
    "    fig, ax = plt.subplots(1, 2)\n",
    "    plt.suptitle(title, fontsize=20)\n",
    "\n",
    "    fig.subplots_adjust(left=None, bottom=None, right=None, top=0.85, wspace=0.5, hspace=None)\n",
    "    fig.set_size_inches(10,5)\n",
    "    x = np.arange(1)\n",
    "\n",
    "    for j in range(0, len(datasets)):\n",
    "        df1 = df[df['dataset']==datasets[j]].sort_values('conf_id')\n",
    "        val = df1['RT'].values\n",
    "        print(val)\n",
    "        s = 0\n",
    "        for i in range(0, len(val)):\n",
    "            ax[j].bar(x+s, val[i], width=0.08, color='#FFFFFF', alpha=1, align='center', edgecolor=\"black\", hatch=hatches[i])\n",
    "            s += 0.1\n",
    "\n",
    "        ax[j].set_title(dataset_names[j], fontsize=20)\n",
    "        ax[j].set_xticks(np.arange(0, 1, 0.1))\n",
    "        ax[j].set_xticklabels(df1['conf_id'].values, rotation=90)\n",
    "        ax[j].yaxis.grid(True)\n",
    "        ax[j].set_axisbelow(True)\n",
    "        ax[j].set_xlabel(\"Feature set \\n (\"+chr(ord('a')+j)+\")\", fontsize=20)\n",
    "        ax[j].set_ylabel(\"Running time (min)\", fontsize=20)\n",
    "\n",
    "    #ax[0].set_ylim([0,3.5])\n",
    "    #ax[0].set_yticks(np.arange(0,3.51,0.5))\n",
    "\n",
    "    #ax[1].set_ylim([0,3.5])\n",
    "    #ax[1].set_yticks(np.arange(0,3.51,0.5))\n",
    "    #fig.savefig(pdfName+\".pdf\", format='pdf', dpi=1200, pad_inches=.05, bbox_inches=\"tight\")\n",
    "    plt.show()"
   ]
  },
  {
   "cell_type": "code",
   "execution_count": null,
   "id": "d40cb630-1cb7-4346-a047-7fb9814cd34d",
   "metadata": {},
   "outputs": [],
   "source": [
    "df = pd.read_csv(f'{BASE_PATH}results/feature_selection_java.csv', sep=\";\")\n",
    "df = df[df['dataset'].isin([\"Movies\", \"WalmartAmazon\"])]\\\n",
    "  .drop(['comparisons', 'run', 'matches', 'train_size', 'precision', 'recall', 'F1'], axis=1)\\\n",
    "  .groupby(['dataset', 'conf_id', 'algorithm']).agg('mean').reset_index()\n",
    "rts = pd.read_csv(f'{BASE_PATH}results/features_calc_time.csv', sep=\";\")\n",
    "rts = rts.drop('features', axis=1)\n",
    "data = rts.merge(df)\n",
    "data['RT'] = (data['RT']+data['blockingTime']+data['featuresTime'])/60.0\n",
    "data = data.drop(['blockingTime', 'featuresTime'], axis=1) "
   ]
  },
  {
   "cell_type": "markdown",
   "id": "6312e22b-be5b-483b-b248-3cf1d4974946",
   "metadata": {},
   "source": [
    "## BLAST selected features runtime (Figure 8)\n",
    "In the original paper the fastest feature set was 78.\n",
    "\n",
    "Here we have different results, this heavily depends from the used CPU/memory settings."
   ]
  },
  {
   "cell_type": "code",
   "execution_count": null,
   "id": "7546c339-ce61-42a1-9dfd-18eedaecd4ba",
   "metadata": {},
   "outputs": [],
   "source": [
    "plot_run_time(data[(data['algorithm']=='blast') & (data['conf_id'].isin(top_blast_features))], \"BLAST Run time\")"
   ]
  },
  {
   "cell_type": "markdown",
   "id": "21c65477-db4b-46c9-af08-ac0b2b06daed",
   "metadata": {},
   "source": [
    "## RCNP selected features runtime (Figure 9)\n",
    "In the original paper the fastest feature set was 187.\n",
    "\n",
    "Here we have different results, this heavily depends from the used CPU/memory settings."
   ]
  },
  {
   "cell_type": "code",
   "execution_count": null,
   "id": "67e47049-d640-4c9b-b477-a4daaab10bc8",
   "metadata": {},
   "outputs": [],
   "source": [
    "plot_run_time(data[(data['algorithm']=='RCNP') & (data['conf_id'].isin(top_rcnp_features))], \"RCNP Run time\")"
   ]
  },
  {
   "cell_type": "markdown",
   "id": "658ed92b-d87b-4d6b-a7fb-ddaaad76a0e4",
   "metadata": {},
   "source": [
    "## Comparison with Supervised meta-blocking"
   ]
  },
  {
   "cell_type": "code",
   "execution_count": null,
   "id": "a3a74e17-25ea-48db-aca1-f0a386f15ce6",
   "metadata": {},
   "outputs": [],
   "source": [
    "avg = pd.read_csv(f'{BASE_PATH}/results/algorithm_selection_java.csv', sep=\";\")\\\n",
    "      .fillna(1e-6)\\\n",
    "      .drop(['dataset', 'train_size', 'run'], axis=1)\\\n",
    "      .groupby('algorithm').mean().reset_index()\n",
    "avg['feature_set_id'] = 128\n",
    "avg['algorithm'] = avg['algorithm'].str.lower()\n",
    "avg = avg[['algorithm', 'recall', 'precision', 'F1', 'conf_id']]\n",
    "\n",
    "df = pd.read_csv(f'{BASE_PATH}/results/feature_selection_java.csv', sep=\";\")\\\n",
    "     .fillna(1e-6)\\\n",
    "     .drop(['dataset', 'train_size'], axis=1)\\\n",
    "     .groupby(['algorithm', 'conf_id']).mean().reset_index()\n",
    "df['algorithm'] = df['algorithm'].str.lower()\n",
    "df = df[['algorithm', 'recall', 'precision', 'F1', 'conf_id', 'RT']]\n",
    "\n",
    "\n",
    "res = pd.concat([avg[avg['algorithm'].isin(['bcl', 'cnp'])],\n",
    "           df[(df['algorithm'] == 'blast') & (df['conf_id']==top_blast)],\n",
    "           df[(df['algorithm'] == 'rcnp') & (df['conf_id']==top_rcnp)]])\n",
    "res = res.fillna(0)"
   ]
  },
  {
   "cell_type": "markdown",
   "id": "ed10ba79-0bf3-400b-b676-d276abc6ac7c",
   "metadata": {},
   "source": [
    "### Figure 10\n",
    "Here the results are different, BCL has a higher Precision than in the original experiments"
   ]
  },
  {
   "cell_type": "code",
   "execution_count": null,
   "id": "7becee57-6c4e-458c-9b96-48f25156b80a",
   "metadata": {},
   "outputs": [],
   "source": [
    "create_chart(res, [], [\"bcl\", \"blast\", \"cnp\", \"rcnp\"], \"\", (2.4, -0.3), title=\"\")"
   ]
  },
  {
   "cell_type": "markdown",
   "id": "0984617b-a149-481a-bccd-94df9f1ddb36",
   "metadata": {},
   "source": [
    "### Figure 11\n",
    "Again, RT is completely different than those in the original paper"
   ]
  },
  {
   "cell_type": "code",
   "execution_count": null,
   "id": "b1f29cd3-12dc-4197-882d-a545c2765df8",
   "metadata": {},
   "outputs": [],
   "source": [
    "rt = pd.read_csv(f'{BASE_PATH}/results/features_calc_time.csv', sep=\";\")"
   ]
  },
  {
   "cell_type": "code",
   "execution_count": null,
   "id": "7d692868-bedb-4b93-862b-111938509af1",
   "metadata": {},
   "outputs": [],
   "source": [
    "data = rt.drop(['features'], axis=1).merge(res)\n",
    "\n",
    "data['RT'] = data['RT']+data['blockingTime']+data['featuresTime']\n",
    "data = data.drop(['conf_id', 'blockingTime', 'featuresTime', 'recall', 'precision', 'F1'], axis=1)\n",
    "data['RT'] /= 60"
   ]
  },
  {
   "cell_type": "code",
   "execution_count": null,
   "id": "13f2aad0-d210-47c9-94b0-d8dbcffad60b",
   "metadata": {},
   "outputs": [],
   "source": [
    "hatches = ['--', '///', '\\\\\\\\\\\\', 'ooo', 'xxx', '...', 'OOO', '|||', '+++', '+o']\n",
    "fields_to_plot = ['Overall time (min)']\n",
    "datasets = sorted(list(set(data['dataset'].values)))\n",
    "dataset_names = [\"Movies\", \"WalmartAmazon\"]\n",
    "fig, ax = plt.subplots(1, 2)\n",
    "#plt.suptitle(title, fontsize=20)\n",
    "\n",
    "fig.subplots_adjust(left=None, bottom=None, right=None, top=None, wspace=0.5, hspace=None)\n",
    "fig.set_size_inches(10,5)\n",
    "x = np.arange(1)\n",
    "\n",
    "for j in range(0, len(datasets)):\n",
    "    df1 = data[data['dataset']==datasets[j]].sort_values('algorithm')\n",
    "    val = df1['RT'].values\n",
    "    s = 0\n",
    "    for i in range(0, len(val)):\n",
    "        ax[j].bar(x+s, val[i], width=0.08, color='#FFFFFF', alpha=1, align='center', edgecolor=\"black\", hatch=hatches[i])\n",
    "        s += 0.1\n",
    "\n",
    "    ax[j].set_title(dataset_names[j], fontsize=20)\n",
    "    ax[j].set_xticks(np.arange(0, 0.4, 0.1))\n",
    "    ax[j].set_xticklabels(df1['algorithm'].values, rotation=0)\n",
    "    ax[j].yaxis.grid(True)\n",
    "    ax[j].set_axisbelow(True)\n",
    "    ax[j].set_xlabel(\"(\"+chr(ord('a')+j)+\")\", fontsize=20)\n",
    "    ax[j].set_ylabel(\"Running time (min)\", fontsize=20)\n",
    "\n",
    "plt.show()"
   ]
  },
  {
   "cell_type": "markdown",
   "id": "c6caa6cf-6b69-4434-ae61-06e3ba3e24d9",
   "metadata": {},
   "source": [
    "# Section 5.4 Training set size selection"
   ]
  },
  {
   "cell_type": "code",
   "execution_count": null,
   "id": "02bc880b-2123-42f8-95e3-8207a8bb8b30",
   "metadata": {},
   "outputs": [],
   "source": [
    "df = pd.read_csv(f'{BASE_PATH}/results/train_size_selection_java.csv', sep=\";\")\\\n",
    ".drop(['dataset', 'conf_id', 'run', 'matches', 'comparisons'], axis=1)\\\n",
    ".groupby(['algorithm', 'train_size']).mean()\\\n",
    ".reset_index()"
   ]
  },
  {
   "cell_type": "code",
   "execution_count": null,
   "id": "6fe369f8-374e-43ba-971b-609845b9e377",
   "metadata": {},
   "outputs": [],
   "source": [
    "def plot_train_change(df, algorithm, title=\"\"):\n",
    "    top_feat = df[df['algorithm']==algorithm]\n",
    "\n",
    "    hatches = ['--', '///', '\\\\\\\\\\\\', 'ooo', 'xxx', '...', 'OOO', '|||', '+++', '+o']\n",
    "    fields_to_plot = ['recall', 'precision', 'F1']\n",
    "    names = ['Recall', 'Precision', 'F1']\n",
    "    fig, ax = plt.subplots(1, len(fields_to_plot))\n",
    "\n",
    "    plt.suptitle(title, fontsize=20)\n",
    "\n",
    "    fig.subplots_adjust(left=None, bottom=None, right=None, top=0.75, wspace=0.5, hspace=None)\n",
    "    fig.set_size_inches(10,2.5)\n",
    "    x = np.arange(1)\n",
    "\n",
    "    for j in range(0, len(fields_to_plot)):\n",
    "        val = top_feat[fields_to_plot[j]].values\n",
    "        s = 0\n",
    "        ax[j].plot(np.arange(0, 1.1, 0.1), val, marker='o', color='black')\n",
    "        #for i in range(0, len(val)):\n",
    "        #    ax[j].bar(x+s, val[i], width=0.08, color='#FFFFFF', alpha=1, align='center', edgecolor=\"black\", hatch=hatches[i])\n",
    "        #    s += 0.1\n",
    "\n",
    "        ax[j].set_title(names[j], fontsize=20)\n",
    "        ax[j].set_xticks(np.arange(0, 1.1, 0.1))\n",
    "        ax[j].set_xticklabels(sorted(list(set(df['train_size'].values))), rotation=90)\n",
    "        ax[j].yaxis.grid(True)\n",
    "        ax[j].set_axisbelow(True)\n",
    "        ax[j].set_xlabel(\"Training set size \\n (\"+chr(ord('a')+j)+\")\", fontsize=15)\n",
    "\n",
    "    #ax[0].set_ylim([0.6,1])\n",
    "    #ax[0].set_yticks(np.arange(0.6,1.01,0.05))\n",
    "\n",
    "    #ax[1].set_ylim([0.15,0.35])\n",
    "    #ax[1].set_yticks(np.arange(0.15,0.36,0.05))\n",
    "\n",
    "    #ax[2].set_ylim([0.25,0.45])\n",
    "    #ax[2].set_yticks(np.arange(0.25,0.451,0.05))\n",
    "\n",
    "    plt.show()"
   ]
  },
  {
   "cell_type": "markdown",
   "id": "ecd72038-698d-447d-a38e-735bcbb340c6",
   "metadata": {},
   "source": [
    "## Figure 12 - Training set size effects on BLAST"
   ]
  },
  {
   "cell_type": "code",
   "execution_count": null,
   "id": "418e6b90-04c5-4923-9b06-f0a435a409c3",
   "metadata": {},
   "outputs": [],
   "source": [
    "plot_train_change(df, 'blast')"
   ]
  },
  {
   "cell_type": "markdown",
   "id": "e940beea-9c0f-492b-b82b-b230333761b4",
   "metadata": {},
   "source": [
    "## Figure 13 - Training set size effects on RCNP"
   ]
  },
  {
   "cell_type": "code",
   "execution_count": null,
   "id": "66eb2546-4cd6-4bcb-984c-f91d145a92e1",
   "metadata": {},
   "outputs": [],
   "source": [
    "plot_train_change(df, 'RCNP')"
   ]
  },
  {
   "cell_type": "markdown",
   "id": "abe50b9f-3a63-436a-8c55-802c47132080",
   "metadata": {},
   "source": [
    "### Figure 14 - BLAST Threshold"
   ]
  },
  {
   "cell_type": "code",
   "execution_count": null,
   "id": "d22c0fe8-d355-42ba-a613-a05f56ca9c66",
   "metadata": {},
   "outputs": [],
   "source": [
    "def get_df(dataset, train_size):\n",
    "    global BASE_PATH\n",
    "    paths = glob.glob(f'{BASE_PATH}probabilities/{dataset}/{train_size}/{dataset}_fs78_*.parquet')\n",
    "\n",
    "    df = pd.read_parquet(paths[0])\n",
    "    for i in range(1, len(paths)):\n",
    "        df = pd.concat([df, pd.read_parquet(paths[i])])\n",
    "        \n",
    "    df = df[['p1', 'p2', 'p_match', 'is_match']].groupby(['p1', 'p2']).mean().reset_index()\n",
    "    df = df[df['p_match'] >= 0.5]\n",
    "    df = df[['p_match', 'is_match']]\n",
    "    df['train_size'] = train_size/100\n",
    "    return df\n",
    "    \n",
    "def create_chart(dataset):\n",
    "    train_sizes = [20, 50, 100, 150, 200, 250, 300, 350, 400, 450, 500]\n",
    "    fig, ax = plt.subplots(1, 1)\n",
    "    fig.set_size_inches(10, 5)\n",
    "\n",
    "    x_ax = np.arange(0.1, 1.2, 0.1)\n",
    "    i = 0.1\n",
    "    for train_size in train_sizes:\n",
    "        df = get_df(dataset, train_size)\n",
    "        df['train_size'] = i\n",
    "        matches = df[df['is_match'] == 1]\n",
    "        non_matches = df[df['is_match'] == 0]\n",
    "        ax.scatter(x=non_matches['train_size'], y=non_matches['p_match'], marker=\"x\", alpha=0.1, color='blue')\n",
    "        ax.scatter(x=matches['train_size'], y=matches['p_match'], marker=\"x\", alpha=0.1, color='red')\n",
    "        i += 0.1\n",
    "\n",
    "    ax.set_title(dataset+\" (blast)\", fontsize=20)\n",
    "    ax.yaxis.grid(True)\n",
    "    ax.set_axisbelow(True)\n",
    "    ax.set_xlabel(\"Training set size\", fontsize=20)\n",
    "    ax.set_xticks(x_ax)\n",
    "    ax.set_xticklabels(train_sizes)\n",
    "    ax.set_axisbelow(True)\n",
    "    ax.set_ylabel(\"Probabilities\", fontsize=20)\n",
    "\n",
    "    thres = pd.read_csv(f'{BASE_PATH}results/blast_thresholds.csv', sep=\";\")\n",
    "    t = thres[(thres['dataset']==dataset) & (thres['feature_set_id']==78)].groupby(['dataset', 'feature_set_id', 'train_size', 'algorithm']).agg('mean').reset_index()\n",
    "    t = t[t['train_size'].isin(train_sizes)].sort_values('train_size')\n",
    "    ax.plot(x_ax, t['avg'], lw=3, color='lightgreen')\n",
    "    ax.plot(x_ax, t['max'], lw=3, color='darkgreen')\n",
    "\n",
    "\n",
    "\n",
    "    legend_elements = [Line2D([0], [0], lw=3, color='lightgreen', label=\"Avg threshold\"),\n",
    "                       Line2D([0], [0], lw=3, color='darkgreen', label=\"Max threshold\"),\n",
    "                       Patch(facecolor='red', edgecolor='r', label='Matches'),\n",
    "                       Patch(facecolor='blue', edgecolor='b', label='Non matches')\n",
    "                      ]\n",
    "\n",
    "    ax.legend(bbox_to_anchor=(0.5, -0.25), handles=legend_elements, loc='lower center', ncol=4, fontsize=12)\n",
    "    \n",
    "    plt.plot()"
   ]
  },
  {
   "cell_type": "code",
   "execution_count": null,
   "id": "f841bc43-3af4-47be-bcee-a8212acdba3b",
   "metadata": {},
   "outputs": [],
   "source": [
    "create_chart('AbtBuy')"
   ]
  },
  {
   "cell_type": "markdown",
   "id": "8e984059-dc4f-40df-afc5-cfd00690eb0d",
   "metadata": {},
   "source": [
    "### Figure 15 - Comparison with BCl"
   ]
  },
  {
   "cell_type": "code",
   "execution_count": null,
   "id": "338e3f02-fc54-4e13-8254-474a3ca00be1",
   "metadata": {},
   "outputs": [],
   "source": [
    "fig, ax = plt.subplots(1, 2)\n",
    "fig.subplots_adjust(left=None, bottom=None, right=None, top=0.75, wspace=0.3, hspace=None)\n",
    "fig.set_size_inches(10,5)\n",
    "x = np.arange(0, 1.1, 0.1)\n",
    "ax[0].set_title(\"Recall\", fontsize=20)\n",
    "ax[1].set_title(\"Precision\", fontsize=20)\n",
    "\n",
    "\n",
    "ax[0].set_xticks(x)\n",
    "ax[0].set_xticklabels([20, 50, 100, 150, 200, 250, 300, 350, 400, 450, 500], rotation=90)\n",
    "ax[0].yaxis.grid(True)\n",
    "ax[0].set_axisbelow(True)\n",
    "ax[0].set_xlabel(\"Training set size \\n (a)\", fontsize=15)\n",
    "\n",
    "ax[1].set_xticks(x)\n",
    "ax[1].set_xticklabels([20, 50, 100, 150, 200, 250, 300, 350, 400, 450, 500], rotation=90)\n",
    "ax[1].set_xlabel(\"Training set size \\n (b)\", fontsize=15)\n",
    "ax[1].yaxis.grid(True)\n",
    "ax[1].set_axisbelow(True)\n",
    "\n",
    "pc_bcl = df[df['algorithm']==\"bcl\"].sort_values('train_size')['recall'].values\n",
    "pc_blast = df[df['algorithm']==\"blast\"].sort_values('train_size')['recall'].values\n",
    "\n",
    "pq_bcl = df[df['algorithm']==\"bcl\"].sort_values('train_size')['precision'].values\n",
    "pq_blast = df[df['algorithm']==\"blast\"].sort_values('train_size')['precision'].values\n",
    "\n",
    "\n",
    "ax[0].plot(x, pc_blast, marker=\"o\", color=\"blue\", label=\"BLAST\")\n",
    "ax[1].plot(x, pq_blast, marker=\"o\", color=\"blue\", label=\"BLAST\")\n",
    "\n",
    "ax[0].plot(x, pc_bcl, marker=\"*\", color=\"red\", label=\"BCl\")\n",
    "ax[1].plot(x, pq_bcl, marker=\"*\", color=\"red\", label=\"BCl\")\n",
    "\n",
    "\n",
    "ax[0].set_ylim([0.75, 1])\n",
    "ax[0].set_yticks(np.arange(0.75,1.01,0.05))\n",
    "\n",
    "custom_lines = [Line2D([0], [0], color='blue', marker=\"o\"),\n",
    "                Line2D([0], [0], color='red', marker=\"*\")]\n",
    "\n",
    "ax[0].legend(custom_lines, ['Blast', 'BCl'], bbox_to_anchor=(1.7, -0.5), loc='lower right',\n",
    "          ncol=4, frameon = False, fontsize=20)\n",
    "\n",
    "plt.show()"
   ]
  },
  {
   "cell_type": "markdown",
   "id": "f4e96455-9c53-4865-b866-c3f7b8709c2a",
   "metadata": {},
   "source": [
    "# Figures 17 and 18\n",
    "Distibution of common blocks."
   ]
  },
  {
   "cell_type": "code",
   "execution_count": null,
   "id": "8243b522-66c3-4978-8fb1-15d23792fcdd",
   "metadata": {},
   "outputs": [],
   "source": [
    "datasets = [\"DblpAcm\", \"ScholarDblp\", \"WalmartAmazon\", \"Movies\", \"AbtBuy\", \"AmazonGP\", \"ImdbTmdb\", \"ImdbTvdb\", \"TmdbTvdb\"]"
   ]
  },
  {
   "cell_type": "code",
   "execution_count": null,
   "id": "604fac6c-2c36-4c8f-af20-86198966f30e",
   "metadata": {},
   "outputs": [],
   "source": [
    "df = pd.DataFrame(columns=['dataset', 'cbs', 'pairs'])\n",
    "for d in datasets:\n",
    "    try:\n",
    "        dft = pd.read_csv(f'{BASE_PATH}cbs_stats/{d}.csv')\n",
    "        dft = dft.astype('int')\n",
    "        dft = dft.rename({'CBS':'cbs', 'cnt':'pairs'}, axis=1)\n",
    "        dft['dataset'] = d\n",
    "        df = pd.concat([df, dft])\n",
    "    except:\n",
    "        pass"
   ]
  },
  {
   "cell_type": "code",
   "execution_count": null,
   "id": "cd9cb0d0-b35b-4a98-a7b6-fe419ddd4e62",
   "metadata": {},
   "outputs": [],
   "source": [
    "overt_t = [\"DblpAcm\", \"ScholarDblp\", \"WalmartAmazon\", \"Movies\"]\n",
    "under_t = [\"AbtBuy\", \"AmazonGP\", \"ImdbTmdb\", \"ImdbTvdb\", \"TmdbTvdb\"]"
   ]
  },
  {
   "cell_type": "code",
   "execution_count": null,
   "id": "8bc181a9-b57c-4954-90e6-e324a58a8bbb",
   "metadata": {},
   "outputs": [],
   "source": [
    "def plot(df, ax, title, let=0):\n",
    "    df = df.copy()\n",
    "    tot = df['pairs'].sum()\n",
    "    df['pairs'] /= tot\n",
    "    df['pairs'] *= 100\n",
    "    df = df.sort_values('cbs')\n",
    "    \n",
    "    x = np.arange(0, round(len(df['cbs'])*0.2, 2), 0.2)\n",
    "    ax.bar(x, df['pairs'], width=0.08, color='grey', alpha=1, align='center', edgecolor=\"black\")\n",
    "    \n",
    "    ax.set_title(title, fontsize=40)\n",
    "    ax.set_xticks(x)\n",
    "    ax.set_xticklabels(df['cbs'].values, rotation=90)\n",
    "    ax.yaxis.grid(True)\n",
    "    ax.set_axisbelow(True)\n",
    "    ax.set_ylabel(\"Portion of \\nmatching pairs (%)\", fontsize=40)\n",
    "    ax.set_xlabel(\"Number of common blocks\\n(\"+chr(ord('a')+let)+\")\", fontsize=40)\n",
    "    \n",
    "    base = 5 \n",
    "    max_y = base * round(df['pairs'].max()/base)\n",
    "    if max_y < df['pairs'].max():\n",
    "        max_y += base\n",
    "    max_y += 0.1\n",
    "     \n",
    "    ax.set_yticks(np.arange(0, max_y, 5))\n",
    "    ax.set_xticklabels(df['cbs'].values)\n",
    "    pass\n",
    "\n",
    "\n",
    "def plotFig(dati, datasets, pdfName):\n",
    "    fig, ax = plt.subplots(2, 2)\n",
    "    fig.subplots_adjust(left=None, bottom=None, right=None, top=None, wspace=0.2, hspace=0.45)\n",
    "    fig.set_size_inches(40, 20)\n",
    "    \n",
    "    d = 0\n",
    "    for i in range(0, 2):\n",
    "        for j in range(0, 2):\n",
    "            plot(dati[dati['dataset']==datasets[d]], ax[i][j], datasets[d], let=d)\n",
    "            d += 1\n",
    "        \n",
    "    #fig.savefig(pdfName+\".pdf\", format='pdf', dpi=1200, pad_inches=.05, bbox_inches=\"tight\")\n",
    "    plt.show()"
   ]
  },
  {
   "cell_type": "code",
   "execution_count": null,
   "id": "71835294-30a0-4529-81a0-32bab9419d18",
   "metadata": {},
   "outputs": [],
   "source": [
    "plotFig(df, overt_t, \"dist_over_t\")"
   ]
  },
  {
   "cell_type": "code",
   "execution_count": null,
   "id": "8633bca2-700f-4c48-8d33-3de3dce86b46",
   "metadata": {},
   "outputs": [],
   "source": [
    "plotFig(df, under_t, \"dist_under_t\")"
   ]
  },
  {
   "cell_type": "code",
   "execution_count": null,
   "id": "cde4cdc2-cbe5-458d-82c7-1ac2878f3c65",
   "metadata": {},
   "outputs": [],
   "source": [
    "fig, ax = plt.subplots(1, 1)\n",
    "fig.set_size_inches(40, 20)\n",
    "plot(df[df['dataset']==\"TmdbTvdb\"], ax, \"TmdbTvdb\", let=4)\n",
    "plt.show()"
   ]
  },
  {
   "cell_type": "markdown",
   "id": "3a45dd72-3baa-4370-8855-0bd6e1ee591b",
   "metadata": {},
   "source": [
    "# Scalability analysis.\n",
    "Figures 16 and 19"
   ]
  },
  {
   "cell_type": "code",
   "execution_count": null,
   "id": "c2be7dda-e823-4f34-a70a-30e918d005c9",
   "metadata": {},
   "outputs": [],
   "source": [
    "def scalability_plot(df, title, algo, figname, letter, legpos=(1.5,-0.9)):\n",
    "    markers = ['o', 'v']\n",
    "    markers = ['s', \"D\"]\n",
    "    colors = ['black', 'dimgrey']\n",
    "    colors = ['darkgreen', 'navy']\n",
    "    fields_to_plot = ['recall', 'precision', 'F1']\n",
    "    names = ['Recall', 'Precision', 'F1']\n",
    "    df_order = [('d10K', 0), ('d50K', 1), ('d100K', 2), ('d200K', 3), ('d300K', 4)]\n",
    "    dfo = pd.DataFrame(df_order, columns=['dataset', 'order'])\n",
    "    fig, ax = plt.subplots(1, len(fields_to_plot))\n",
    "\n",
    "    #plt.suptitle(title, fontsize=20)\n",
    "\n",
    "    fig.subplots_adjust(left=None, bottom=None, right=None, top=0.75, wspace=0.5, hspace=None)\n",
    "    fig.set_size_inches(10,2.5)\n",
    "    x = np.arange(1)\n",
    "\n",
    "\n",
    "    for i in range(0, len(algo)):\n",
    "        df1 = pd.merge(df[df['algorithm']==algo[i]], dfo).sort_values('order')\n",
    "        for j in range(0, len(fields_to_plot)):    \n",
    "            val = df1[fields_to_plot[j]].values\n",
    "            #print(val)\n",
    "            #if i > 0:\n",
    "            #    lbl = algo[i]\n",
    "            #else:\n",
    "            #    lbl = letter + \"     \" + algo[i]\n",
    "            ax[j].plot(np.arange(0, 0.5, 0.1), val, marker=markers[i], color=colors[i], label=algo[i], markersize=8)\n",
    "\n",
    "            ax[j].set_title(names[j], fontsize=20)\n",
    "            ax[j].set_xticks(np.arange(0, 0.5, 0.1))\n",
    "            ax[j].set_xticklabels(df1['dataset'].values, rotation=90)\n",
    "            ax[j].yaxis.grid(True)\n",
    "            ax[j].set_axisbelow(True)\n",
    "\n",
    "    ax[0].set_ylim([0.0,1.01])\n",
    "    ax[0].set_yticks(np.arange(0.0,1.02,0.1))\n",
    "\n",
    "    ax[1].set_ylim([0,0.80])\n",
    "    ax[1].set_yticks(np.arange(0,0.81,0.1))\n",
    "    ax[1].set_xlabel(letter, fontsize=20)\n",
    "    #fig.text(0.25, -0.3, letter, fontsize=20, transform=plt.gcf().transFigure)\n",
    "\n",
    "    ax[2].set_ylim([0,0.85])\n",
    "    ax[2].set_yticks(np.arange(0,0.85,0.1))\n",
    "\n",
    "    ax[1].legend(bbox_to_anchor=legpos, loc='lower right', ncol=4, frameon = False, fontsize=20)\n",
    "    \n",
    "    plt.show()"
   ]
  },
  {
   "cell_type": "code",
   "execution_count": null,
   "id": "6138222c-1eb8-4762-a522-984166dcb882",
   "metadata": {},
   "outputs": [],
   "source": [
    "df = pd.read_csv(f'{BASE_PATH}results/scalability.csv', sep=\";\")\n",
    "df = df.drop(['train_size', 'conf_id', 'run'], axis=1)\n",
    "df = df.groupby(['dataset', 'algorithm']).mean()\n",
    "df = df.reset_index()"
   ]
  },
  {
   "cell_type": "code",
   "execution_count": null,
   "id": "bb25e315-8f24-408e-9192-e32c5d4aa75b",
   "metadata": {},
   "outputs": [],
   "source": [
    "title = \"Weight-based Pruning Algorithms\"\n",
    "algo = ['blast', 'bcl']\n",
    "scalability_plot(df, title, algo, \"w_based_scalability\", \"(a)\")"
   ]
  },
  {
   "cell_type": "code",
   "execution_count": null,
   "id": "d059f1af-fd3d-44d2-a538-4256a8707822",
   "metadata": {},
   "outputs": [],
   "source": [
    "title = \"Cardinality-based Pruning Algorithms\"\n",
    "algo = ['CNP', 'RCNP']\n",
    "scalability_plot(df, title, algo, \"c_based_scalability\", \"(b)\")"
   ]
  },
  {
   "cell_type": "code",
   "execution_count": null,
   "id": "0fcb1305-2718-4340-b71b-6ac66f3e1544",
   "metadata": {},
   "outputs": [],
   "source": [
    "def calc_speedup(dsm, dlg):\n",
    "    return (dlg['comparisons']/dsm['comparisons'])*(dsm['RT']/dlg['RT'])\n",
    "\n",
    "speedups = pd.DataFrame()\n",
    "for d in set(df['algorithm'].values):\n",
    "    sm = df[(df['algorithm']==d) & (df['dataset']=='d10K')]\n",
    "    res = df[(df['algorithm']==d) & (df['dataset']!='d10K')]\n",
    "    res['speedup'] = res.apply(lambda x: calc_speedup(sm, x), axis=1)\n",
    "    res = res.set_index('dataset')\n",
    "    speedups[d] = res['speedup']\n",
    "\n",
    "df_order = [('d50K', 1), ('d100K', 2), ('d200K', 3), ('d300K', 4)]\n",
    "dfo = pd.DataFrame(df_order, columns=['dataset', 'order'])\n",
    "speedups = pd.merge(speedups.reset_index(), dfo).sort_values('order')"
   ]
  },
  {
   "cell_type": "code",
   "execution_count": null,
   "id": "6ab5cb4a-2e72-4812-948c-24ca7e2e1aae",
   "metadata": {},
   "outputs": [],
   "source": [
    "df = speedups\n",
    "markers = ['o', 'v', 's', \"D\"]\n",
    "colors = ['black', 'dimgrey', 'darkgreen', 'navy']\n",
    "fields_to_plot = [\"blast\", \"bcl\", \"RCNP\", \"CNP\"]\n",
    "labels = [\"BLAST\", \"BCl\", \"RCNP\", \"CNP\"]\n",
    "fig, ax = plt.subplots(1, 1)\n",
    "\n",
    "fig.set_size_inches(10,4)\n",
    "x = np.arange(1)\n",
    "\n",
    "for i in range(0, len(fields_to_plot)):\n",
    "    val = df[fields_to_plot[i]].values\n",
    "    ax.plot(np.arange(0, 0.4, 0.1), val, marker=markers[i], color=colors[i], label=labels[i], lw=4, markersize=10, alpha=0.7)\n",
    "\n",
    "    ax.set_xticks(np.arange(0, 0.4, 0.1))\n",
    "    ax.set_xticklabels(df['dataset'].values, rotation=90)\n",
    "    ax.yaxis.grid(True)\n",
    "    ax.set_axisbelow(True)\n",
    "    #ax[j].set_xlabel(\"Dataset \\n (\"+chr(ord('a')+j)+\")\", fontsize=15)\n",
    "        \n",
    "    fig.text(0.45, -0.45, \"(c)\", fontsize=25, transform=plt.gcf().transFigure)\n",
    "    fig.text(0.45, -0.55, \".\", color=\"white\", fontsize=25, transform=plt.gcf().transFigure)\n",
    "\n",
    "#ax.set_ylim([0.9,1.09])\n",
    "#ax.set_yticks(np.arange(0.9,1.10,0.05))\n",
    "#ax.set_xlabel(\"\\n\\n(c)\", fontsize=20)\n",
    "\n",
    "ax.legend(bbox_to_anchor=(1.05,-0.7), loc='lower right', ncol=4, frameon = False, fontsize=23)\n",
    "\n",
    "plt.show()"
   ]
  },
  {
   "cell_type": "markdown",
   "id": "0a3657d3-68ec-44b2-b803-ac3071525cbc",
   "metadata": {},
   "source": [
    "# Table 4"
   ]
  },
  {
   "cell_type": "code",
   "execution_count": null,
   "id": "3f2b17ad-47dc-4a65-96db-89047ec05624",
   "metadata": {},
   "outputs": [],
   "source": [
    "df = pd.read_csv(f'{BASE_PATH}results/table4.csv', sep=\";\").drop(['matches', 'run', 'comparisons'], axis=1)\n",
    "df = df.groupby(['dataset', 'train_size', 'conf_id', 'algorithm']).mean().reset_index()"
   ]
  },
  {
   "cell_type": "code",
   "execution_count": null,
   "id": "1b41603c-9fc5-4269-8b93-5bf37b09a9e6",
   "metadata": {},
   "outputs": [],
   "source": [
    "def create_table(df, algorithm, conf_id, train_size, title):\n",
    "    print(title)\n",
    "    tmp = df[(df['conf_id']==conf_id) & (df['algorithm']==algorithm) & (df['train_size']==train_size)]\\\n",
    "            .drop(['train_size', 'conf_id', 'algorithm'], axis=1)\\\n",
    "            .set_index('dataset').transpose()\n",
    "    tmp['avg'] = (tmp.apply(lambda x: x.mean(), axis=1))\n",
    "    display(tmp)"
   ]
  },
  {
   "cell_type": "code",
   "execution_count": null,
   "id": "68327461-7b7f-4eb8-ab96-46c286254aef",
   "metadata": {},
   "outputs": [],
   "source": [
    "create_table(df, 'blast', 78, 50, '(a) BLAST with 50 labelled pairs and {𝐶𝐹-𝐼𝐵𝐹,𝑅𝐴𝐶𝐶𝐵,𝑅𝑆,𝑁𝑅𝑆}')"
   ]
  },
  {
   "cell_type": "code",
   "execution_count": null,
   "id": "ac780419-d811-4b2d-982a-52aae406afc9",
   "metadata": {},
   "outputs": [],
   "source": [
    "create_table(df, 'bcl', 78, 50, '(b) BCl1 with 50 labelled pairs and {𝐶𝐹-𝐼𝐵𝐹,𝑅𝐴𝐶𝐶𝐵,𝑅𝑆,𝑁𝑅𝑆}')"
   ]
  },
  {
   "cell_type": "code",
   "execution_count": null,
   "id": "b16823f0-1037-4607-acc2-19d3da1254b0",
   "metadata": {},
   "outputs": [],
   "source": [
    "create_table(df, 'bcl', 128, 500, '(c) BCl2 with the training set and the features of [13], i.e., {𝐶𝐹-𝐼𝐵𝐹,𝑅𝐴𝐶𝐶𝐵, 𝐽𝑆,𝐿𝐶𝑃 }')"
   ]
  },
  {
   "cell_type": "code",
   "execution_count": null,
   "id": "340329c1-d9a5-4bf4-905a-947906b5c382",
   "metadata": {},
   "outputs": [],
   "source": [
    "create_table(df, 'RCNP', 187, 50, '(d) RCNP with 50 labelled pairs and {𝐶𝐹-𝐼𝐵𝐹,𝑅𝐴𝐶𝐶𝐵, 𝐽𝑆,𝐿𝐶𝑃 ,𝑊𝐽𝑆}')"
   ]
  },
  {
   "cell_type": "code",
   "execution_count": null,
   "id": "966ef163-a72f-4231-8b21-d1e11ce54908",
   "metadata": {},
   "outputs": [],
   "source": [
    "create_table(df, 'CNP', 187, 50, '(e) CNP1 with 50 labelled pairs and {𝐶𝐹-𝐼𝐵𝐹,𝑅𝐴𝐶𝐶𝐵, 𝐽𝑆,𝐿𝐶𝑃 ,𝑊𝐽𝑆}')"
   ]
  },
  {
   "cell_type": "code",
   "execution_count": null,
   "id": "1639147a-3600-4998-851a-23875f6c23a1",
   "metadata": {},
   "outputs": [],
   "source": [
    "create_table(df, 'CNP', 128, 500, '(f) CNP2 with the training set and the features of [13], i.e., {𝐶𝐹-𝐼𝐵𝐹,𝑅𝐴𝐶𝐶𝐵, 𝐽𝑆,𝐿𝐶𝑃 }')"
   ]
  },
  {
   "cell_type": "markdown",
   "id": "2b69fb3a-5391-4268-8472-7f3e0aa3bf28",
   "metadata": {},
   "source": [
    "# Progressive experiments \n",
    "Plot Figures 20 and 21"
   ]
  },
  {
   "cell_type": "code",
   "execution_count": null,
   "id": "98ed1c96-9159-4189-b7fd-b2cc8fed7871",
   "metadata": {},
   "outputs": [],
   "source": [
    "def plot_clean_progressive(df, datasets, d_names, figname):\n",
    "    df3 = df[df['method'] != \"sup_mb\"]\n",
    "    df4 = df3.drop('method', axis=1).groupby('dataset').mean().reset_index()\n",
    "    df4['method'] = 'others'\n",
    "    df4 = pd.concat([df4, df[df['method']==\"sup_mb\"]], ignore_index=True)\n",
    "    \n",
    "    fig, ax = plt.subplots(1, len(datasets))\n",
    "    fig.set_size_inches(20, 2.5)\n",
    "    fig.subplots_adjust(left=None, bottom=None, right=None, top=None, wspace=0.5, hspace=None)\n",
    "    aucs = [1, 5, 10, 20]\n",
    "    methods = [\"sup_mb\", \"others\"]\n",
    "    methods_names = [\"PPS + Gen. Sup. MB\", \"PPS\"]\n",
    "\n",
    "\n",
    "    x = np.array([0, 4, 8, 12])\n",
    "    w = 1\n",
    "    for i in range(0, len(datasets)):\n",
    "        ax[i].set_title(d_names[i], fontsize=15)\n",
    "\n",
    "        for j in range (0, len(methods)):\n",
    "            data = df4[(df4['method']==methods[j]) & (df4['dataset']==datasets[i])][['auc_1', 'auc_5', 'auc_10', 'auc_20']].values            \n",
    "            if j == 0:\n",
    "                ax[i].bar(x+w/2, data[0], width=w, label=methods_names[j], edgecolor='black')\n",
    "            else:\n",
    "                ax[i].bar(x-w/2, data[0], width=w, label=methods_names[j], edgecolor='black')\n",
    "\n",
    "        ax[i].set_xticks(x)\n",
    "        ax[i].set_yticks(np.arange(0, 1.01, 0.2))\n",
    "        ax[i].set_yticklabels([0.0, 0.2, 0.4, 0.6, 0.8, 1.0], fontsize=15)\n",
    "        ax[i].set_xticklabels(aucs, fontsize=15)\n",
    "        ax[i].set_axisbelow(True)\n",
    "        ax[i].yaxis.grid(True)\n",
    "        ax[i].set_xlabel('$ec*$', fontsize=15)\n",
    "    ax[0].set_ylabel('$AUC_m^*$', fontsize=15)\n",
    "    \n",
    "    if len(datasets) > 7:\n",
    "        ax[4].legend(bbox_to_anchor=(2.3, -0.55), loc='lower right', ncol=3, frameon = False, fontsize=15)\n",
    "    else:\n",
    "        ax[2].legend(bbox_to_anchor=(1.4, -0.55), loc='lower right', ncol=3, frameon = False, fontsize=15)\n",
    "    plt.show()\n",
    "\n",
    "    #fig.savefig(f\"{figname}.pdf\", format='pdf', dpi=1200, pad_inches=.05, bbox_inches=\"tight\")\n",
    "\n",
    "def plot_dirty_progressive(df_dirty, dirty_datasets, dirty_names):\n",
    "    others = df_dirty[df_dirty['method'] != \"sup_mb\"]\n",
    "    others = df_dirty[df_dirty['method'] != \"sup_mb\"]\n",
    "    others = others.drop('method', axis=1).groupby('dataset').mean().reset_index()\n",
    "    others['method'] = 'others'\n",
    "    sup_mb = df_dirty[df_dirty['method']==\"sup_mb\"].reset_index().drop('index', axis=1)\n",
    "    \n",
    "    others['order'] = 0\n",
    "    sup_mb['order'] = 0\n",
    "    for i in range(0, len(dirty_datasets)):\n",
    "        others.loc[others['dataset']==dirty_datasets[i], 'order'] = i\n",
    "        sup_mb.loc[sup_mb['dataset']==dirty_datasets[i], 'order'] = i\n",
    "    sup_mb = sup_mb.sort_values('order')\n",
    "    others = others.sort_values('order')\n",
    "    \n",
    "    aucs = [1, 5, 10, 20]\n",
    "    methods = [\"sup_mb\", \"others\"]\n",
    "    methods_names = [\"PPS + Gen. Sup. MB\", \"PPS\"]\n",
    "    \n",
    "    fig, ax = plt.subplots(1, len(aucs))\n",
    "    fig.set_size_inches(20, 2.5)\n",
    "    fig.subplots_adjust(left=None, bottom=None, right=None, top=None, wspace=0.3, hspace=None)\n",
    "    \n",
    "    x = np.arange(0, len(dirty_datasets))\n",
    "    \n",
    "    for i in range(0, len(aucs)):\n",
    "        ax[i].plot(x, sup_mb[f'auc_{aucs[i]}'].values, marker='o', label=\"PPS + Gen. Sup. MB\")\n",
    "        ax[i].plot(x, others[f'auc_{aucs[i]}'].values, marker='o', label=\"PPS\")\n",
    "        ax[i].set_yticks(np.arange(0, 1.01, 0.2))\n",
    "        ax[i].set_yticklabels([0.0, 0.2, 0.4, 0.6, 0.8, 1.0], fontsize=15)\n",
    "        ax[i].set_xticks(x)\n",
    "        ax[i].set_xticklabels(dirty_datasets, fontsize=15)\n",
    "        ax[i].set_axisbelow(True)\n",
    "        ax[i].yaxis.grid(True)\n",
    "        ax[i].set_title(f'$AUC^*_m@{aucs[i]}$', fontsize=15)\n",
    "        ax[i].set_xlabel(\"\\n(\"+chr(ord('a')+i)+\")\", fontsize=20)\n",
    "        \n",
    "    ax[1].legend(bbox_to_anchor=(1.85, -0.8), loc='lower right', ncol=3, frameon = False, fontsize=15)\n",
    "    \n",
    "    #fig.savefig(\"dirty_2.pdf\", format='pdf', dpi=1200, pad_inches=.05, bbox_inches=\"tight\")\n",
    "    plt.show()"
   ]
  },
  {
   "cell_type": "code",
   "execution_count": null,
   "id": "23cc0cee-0b2c-4103-b2e1-d91feab51880",
   "metadata": {},
   "outputs": [],
   "source": [
    "clean_datasets = [\"AbtBuy\", \"DblpAcm\", \"ScholarDblp\", \"AmazonGP\", \"ImdbTmdb\", \"ImdbTvdb\", \"TmdbTvdb\", \"Movies\", \"WalmartAmazon\"]\n",
    "clean_names = [\"AbtBuy\", \"DblpAcm\", \"ScholarDblp\", \"AmazonGP\", \"ImdbTmdb\", \"ImdbTvdb\", \"TmdbTvdb\", \"Movies\", \"WalmartAmazon\"]\n",
    "\n",
    "df_clean = pd.read_csv(f'{BASE_PATH}results/progressive_clean_results.csv', sep=\";\")\n",
    "plot_clean_progressive(df_clean, clean_datasets, clean_names, \"progressive_clean\")"
   ]
  },
  {
   "cell_type": "code",
   "execution_count": null,
   "id": "1cea2639-95f8-41a8-a8d4-50bdcd72353c",
   "metadata": {},
   "outputs": [],
   "source": [
    "dirty_datasets = [\"d10K\", \"d50K\", \"d100K\", \"d200K\", \"d300K\"]\n",
    "dirty_names = [\"D10K\", \"D50K\", \"D100K\", \"D200K\", \"D300K\"]\n",
    "df_dirty = pd.read_csv(f'{BASE_PATH}results/progressive_dirty_results.csv', sep=\";\")\n",
    "plot_dirty_progressive(df_dirty, dirty_datasets, dirty_names)"
   ]
  },
  {
   "cell_type": "markdown",
   "id": "60535121",
   "metadata": {},
   "source": [
    "# Table 5\n",
    "Comparison with others blocking frameworks"
   ]
  },
  {
   "cell_type": "code",
   "execution_count": null,
   "id": "3b16507a",
   "metadata": {},
   "outputs": [],
   "source": [
    "df = pd.read_csv(f'{BASE_PATH}results/table4.csv', sep=\";\").drop(['matches', 'run', 'comparisons'], axis=1)\n",
    "df = df.groupby(['dataset', 'train_size', 'conf_id', 'algorithm']).mean().reset_index()"
   ]
  },
  {
   "cell_type": "code",
   "execution_count": null,
   "id": "6e543cb2",
   "metadata": {},
   "outputs": [],
   "source": [
    "create_table(df, 'blast', 78, 50, '(a) BLAST with 50 labelled pairs and {𝐶𝐹-𝐼𝐵𝐹,𝑅𝐴𝐶𝐶𝐵,𝑅𝑆,𝑁𝑅𝑆}')"
   ]
  },
  {
   "cell_type": "code",
   "execution_count": null,
   "id": "705198b9",
   "metadata": {},
   "outputs": [],
   "source": [
    "create_table(df, 'RCNP', 187, 50, '(b) RCNP with 50 labelled pairs and {𝐶𝐹-𝐼𝐵𝐹,𝑅𝐴𝐶𝐶𝐵, 𝐽𝑆,𝐿𝐶𝑃 ,𝑊𝐽𝑆}')"
   ]
  },
  {
   "cell_type": "code",
   "execution_count": null,
   "id": "e6c804a8",
   "metadata": {},
   "outputs": [],
   "source": [
    "df = pd.read_csv(f'{BASE_PATH}results/deepblocker.csv', sep=\";\")\n",
    "tmp = df.drop(['k', 'model_name', 'candidates', 'train_time', 'block_time'], axis=1).set_index('dataset').transpose()\n",
    "tmp['avg'] = (tmp.apply(lambda x: x.mean(), axis=1))\n",
    "print('(c) DeepBlocker')\n",
    "tmp"
   ]
  },
  {
   "cell_type": "code",
   "execution_count": null,
   "id": "0bfdf1c2",
   "metadata": {},
   "outputs": [],
   "source": [
    "df = pd.read_csv(f'{BASE_PATH}results/sudowoodo_results_50.csv', sep=\";\")\n",
    "tmp = df.drop(['train_time', 'block_time'], axis=1).set_index('dataset').transpose()\n",
    "tmp['avg'] = (tmp.apply(lambda x: x.mean(), axis=1))\n",
    "print(\"(d) Sudowoodo with 50 labelled pairs\")\n",
    "tmp"
   ]
  },
  {
   "cell_type": "code",
   "execution_count": null,
   "id": "5fab23a3",
   "metadata": {},
   "outputs": [],
   "source": [
    "df = pd.read_csv(f'{BASE_PATH}results/sudowoodo_results_500.csv', sep=\";\")\n",
    "tmp = df.drop(['train_time', 'block_time'], axis=1).set_index('dataset').transpose()\n",
    "tmp['avg'] = (tmp.apply(lambda x: x.mean(), axis=1))\n",
    "print(\"(e) Sudowoodo with 500 labelled pairs\")\n",
    "tmp"
   ]
  },
  {
   "cell_type": "code",
   "execution_count": null,
   "id": "ee25909d",
   "metadata": {},
   "outputs": [],
   "source": [
    "df = pd.read_csv(f'{BASE_PATH}results/contextual_blocker.csv', sep=\";\")\n",
    "tmp = df.set_index('dataset').transpose()\n",
    "tmp['avg'] = (tmp.apply(lambda x: x.mean(), axis=1))\n",
    "print(\"(f) ContextualBlocker\")\n",
    "tmp"
   ]
  },
  {
   "cell_type": "code",
   "execution_count": null,
   "id": "7110d39d",
   "metadata": {},
   "outputs": [],
   "source": [
    "df = pd.read_csv(f'{BASE_PATH}results/sparkly_k_best.csv', sep=\";\")\n",
    "tmp = df.drop('k', axis=1).set_index('dataset').transpose()\n",
    "tmp['avg'] = (tmp.apply(lambda x: x.mean(), axis=1))\n",
    "print(\"(g) Sparkly with fine-tuned k\")\n",
    "tmp"
   ]
  },
  {
   "cell_type": "code",
   "execution_count": null,
   "id": "90f5b282",
   "metadata": {},
   "outputs": [],
   "source": [
    "df = pd.read_csv(f'{BASE_PATH}results/sparkly_k10.csv', sep=\";\")\n",
    "tmp = df.drop('k', axis=1).set_index('dataset').transpose()\n",
    "tmp['avg'] = (tmp.apply(lambda x: x.mean(), axis=1))\n",
    "print(\"(h) Sparkly with k = 10\")\n",
    "tmp"
   ]
  },
  {
   "cell_type": "code",
   "execution_count": null,
   "id": "7ff3eb79",
   "metadata": {},
   "outputs": [],
   "source": []
  },
  {
   "cell_type": "code",
   "execution_count": null,
   "id": "3c1993ae",
   "metadata": {},
   "outputs": [],
   "source": []
  }
 ],
 "metadata": {
  "kernelspec": {
   "display_name": "Python 3 (ipykernel)",
   "language": "python",
   "name": "python3"
  },
  "language_info": {
   "codemirror_mode": {
    "name": "ipython",
    "version": 3
   },
   "file_extension": ".py",
   "mimetype": "text/x-python",
   "name": "python",
   "nbconvert_exporter": "python",
   "pygments_lexer": "ipython3",
   "version": "3.7.5"
  }
 },
 "nbformat": 4,
 "nbformat_minor": 5
}
